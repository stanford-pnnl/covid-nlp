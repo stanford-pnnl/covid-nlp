{
 "cells": [
  {
   "cell_type": "code",
   "execution_count": null,
   "metadata": {},
   "outputs": [],
   "source": [
    "from mental_health_analysis import prepare_output_dirs, run_q1, run_q9"
   ]
  },
  {
   "cell_type": "markdown",
   "metadata": {},
   "source": [
    "### Load concepts table"
   ]
  },
  {
   "cell_type": "code",
   "execution_count": null,
   "metadata": {},
   "outputs": [],
   "source": [
    "concepts_paths = [\n",
    "    f'/share/pi/stamang/covid/data/concept/concept00000000000{i}.csv' for i in range(3)]\n",
    "print(\"Loading concepts table\")\n",
    "frames = [get_df(path) for path in concepts_paths]\n",
    "concepts = pd.concat(frames, sort=False)"
   ]
  },
  {
   "cell_type": "markdown",
   "metadata": {},
   "source": [
    "### Create and load an instance of PatientDB to query"
   ]
  },
  {
   "cell_type": "code",
   "execution_count": null,
   "metadata": {},
   "outputs": [],
   "source": [
    "patient_db_path = \"/home/colbyham/output/patients_20201001-005736.jsonl\"\n",
    "patients = PatientDB(name='all')\n",
    "patients.load(patient_db_path)"
   ]
  },
  {
   "cell_type": "markdown",
   "metadata": {},
   "source": [
    "### Make sure output dirs are created"
   ]
  },
  {
   "cell_type": "code",
   "execution_count": null,
   "metadata": {},
   "outputs": [],
   "source": [
    "output_dir = \"/home/colbyham/output\"\n",
    "prepare_output_dirs(output_dir, num_questions=9, prefix='q')"
   ]
  },
  {
   "cell_type": "markdown",
   "metadata": {},
   "source": [
    "### Q1 - What are the co-morbidities associated with mental health?"
   ]
  },
  {
   "cell_type": "code",
   "execution_count": null,
   "metadata": {},
   "outputs": [],
   "source": [
    "question_one_terms = ['depression', 'anxiety', 'insomnia', 'distress']\n",
    "question_one_matches,\\\n",
    "    question_one_event_type_roles,\\\n",
    "    question_one_cnt_event_type_roles = \\\n",
    "    run_q1(patients, question_one_terms,\n",
    "           f\"{output_dir}/q1/top_k.jsonl\")"
   ]
  },
  {
   "cell_type": "markdown",
   "metadata": {},
   "source": [
    "### Q9 - What are the top medications prescribed for patients with mental health related issues?"
   ]
  },
  {
   "cell_type": "code",
   "execution_count": null,
   "metadata": {},
   "outputs": [],
   "source": [
    "question_nine_top_k, question_nine_cnt_event_type_roles = run_q9(patients, question_one_matches, question_one_event_type_roles,\n",
    "           concepts, f\"{output_dir}/q9/top_k.jsonl\")"
   ]
  }
 ],
 "metadata": {
  "kernelspec": {
   "display_name": "Python 3",
   "language": "python",
   "name": "python3"
  },
  "language_info": {
   "codemirror_mode": {
    "name": "ipython",
    "version": 3
   },
   "file_extension": ".py",
   "mimetype": "text/x-python",
   "name": "python",
   "nbconvert_exporter": "python",
   "pygments_lexer": "ipython3",
   "version": "3.7.3"
  }
 },
 "nbformat": 4,
 "nbformat_minor": 2
}
